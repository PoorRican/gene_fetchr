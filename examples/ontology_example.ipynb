{
 "cells": [
  {
   "cell_type": "markdown",
   "source": [
    "# Ontology Example\n",
    "\n",
    "This notebook describes the use of the `OntologyScraper` functor.\n",
    "\n",
    "We will be examining the gene for _fructokinase_ - _mak_ - found in _E. coli (strain K-12)_.\n",
    "\n",
    "`OntologyScraper` queries UniProtKB and therefore can only fetch ontologies from coding sequences.\n",
    "So the only input we need is the UniProt id for the product of the gene. In the case of the _mak_ gene,\n",
    "the id for _fructokinase_ is `P23917`. Getting this identifier is returned by `GeneScraper` and is thereby\n",
    "out of the scope of this example."
   ],
   "metadata": {
    "collapsed": false
   }
  },
  {
   "cell_type": "code",
   "execution_count": 4,
   "outputs": [],
   "source": [
    "from ontologies.OntologyScraper import OntologyScraper\n",
    "import pprint\n",
    "pp = pprint.pprint"
   ],
   "metadata": {
    "collapsed": false
   }
  },
  {
   "cell_type": "code",
   "execution_count": 2,
   "outputs": [],
   "source": [
    "mak = \"P23917\"\n",
    "O = OntologyScraper()"
   ],
   "metadata": {
    "collapsed": false
   }
  },
  {
   "cell_type": "markdown",
   "source": [
    "`OntologyScraper` only has one method: `get_ontologies`"
   ],
   "metadata": {
    "collapsed": false
   }
  },
  {
   "cell_type": "code",
   "execution_count": 5,
   "outputs": [
    {
     "name": "stdout",
     "output_type": "stream",
     "text": [
      "[{'aspect': 'cellular_component',\n",
      "  'definition': {'text': 'The part of the cytoplasm that does not contain '\n",
      "                         'organelles but which does contain other particulate '\n",
      "                         'matter, such as protein complexes.'},\n",
      "  'id': 'GO:0005829',\n",
      "  'name': 'cytosol'},\n",
      " {'aspect': 'molecular_function',\n",
      "  'definition': {'text': \"Binding to ATP, adenosine 5'-triphosphate, a \"\n",
      "                         'universally important coenzyme and enzyme regulator.',\n",
      "                 'xrefs': [{'dbCode': 'ISBN', 'dbId': '0198506732'}]},\n",
      "  'id': 'GO:0005524',\n",
      "  'name': 'ATP binding'},\n",
      " {'aspect': 'molecular_function',\n",
      "  'definition': {'text': 'Catalysis of the reaction: ATP + D-hexose = ADP + '\n",
      "                         'D-hexose 6-phosphate.',\n",
      "                 'xrefs': [{'dbCode': 'EC', 'dbId': '2.7.1.1'}]},\n",
      "  'id': 'GO:0004396',\n",
      "  'name': 'hexokinase activity'},\n",
      " {'aspect': 'molecular_function',\n",
      "  'definition': {'text': 'Catalysis of the reaction: ATP + D-fructose = ADP + '\n",
      "                         'D-fructose 6-phosphate.',\n",
      "                 'xrefs': [{'dbCode': 'EC', 'dbId': '2.7.1.4'}]},\n",
      "  'id': 'GO:0008865',\n",
      "  'name': 'fructokinase activity'},\n",
      " {'aspect': 'molecular_function',\n",
      "  'definition': {'text': 'Catalysis of the reaction: ATP + D-mannose = ADP + '\n",
      "                         'D-mannose 6-phosphate.',\n",
      "                 'xrefs': [{'dbCode': 'EC', 'dbId': '2.7.1.7'}]},\n",
      "  'id': 'GO:0019158',\n",
      "  'name': 'mannokinase activity'}]\n"
     ]
    }
   ],
   "source": [
    "pp(O.get_ontologies(mak))"
   ],
   "metadata": {
    "collapsed": false
   }
  },
  {
   "cell_type": "markdown",
   "source": [
    "As a shortcut, the `__call__` method has been overridden, so it acts like a function.\n",
    "\n",
    "The following returns the same output."
   ],
   "metadata": {
    "collapsed": false
   }
  },
  {
   "cell_type": "code",
   "execution_count": 6,
   "outputs": [
    {
     "name": "stdout",
     "output_type": "stream",
     "text": [
      "[{'aspect': 'cellular_component',\n",
      "  'definition': {'text': 'The part of the cytoplasm that does not contain '\n",
      "                         'organelles but which does contain other particulate '\n",
      "                         'matter, such as protein complexes.'},\n",
      "  'id': 'GO:0005829',\n",
      "  'name': 'cytosol'},\n",
      " {'aspect': 'molecular_function',\n",
      "  'definition': {'text': \"Binding to ATP, adenosine 5'-triphosphate, a \"\n",
      "                         'universally important coenzyme and enzyme regulator.',\n",
      "                 'xrefs': [{'dbCode': 'ISBN', 'dbId': '0198506732'}]},\n",
      "  'id': 'GO:0005524',\n",
      "  'name': 'ATP binding'},\n",
      " {'aspect': 'molecular_function',\n",
      "  'definition': {'text': 'Catalysis of the reaction: ATP + D-hexose = ADP + '\n",
      "                         'D-hexose 6-phosphate.',\n",
      "                 'xrefs': [{'dbCode': 'EC', 'dbId': '2.7.1.1'}]},\n",
      "  'id': 'GO:0004396',\n",
      "  'name': 'hexokinase activity'},\n",
      " {'aspect': 'molecular_function',\n",
      "  'definition': {'text': 'Catalysis of the reaction: ATP + D-fructose = ADP + '\n",
      "                         'D-fructose 6-phosphate.',\n",
      "                 'xrefs': [{'dbCode': 'EC', 'dbId': '2.7.1.4'}]},\n",
      "  'id': 'GO:0008865',\n",
      "  'name': 'fructokinase activity'},\n",
      " {'aspect': 'molecular_function',\n",
      "  'definition': {'text': 'Catalysis of the reaction: ATP + D-mannose = ADP + '\n",
      "                         'D-mannose 6-phosphate.',\n",
      "                 'xrefs': [{'dbCode': 'EC', 'dbId': '2.7.1.7'}]},\n",
      "  'id': 'GO:0019158',\n",
      "  'name': 'mannokinase activity'}]\n"
     ]
    }
   ],
   "source": [
    "pp(O(mak))"
   ],
   "metadata": {
    "collapsed": false
   }
  },
  {
   "cell_type": "code",
   "execution_count": null,
   "outputs": [],
   "source": [],
   "metadata": {
    "collapsed": false
   }
  }
 ],
 "metadata": {
  "kernelspec": {
   "display_name": "Python 3",
   "language": "python",
   "name": "python3"
  },
  "language_info": {
   "codemirror_mode": {
    "name": "ipython",
    "version": 2
   },
   "file_extension": ".py",
   "mimetype": "text/x-python",
   "name": "python",
   "nbconvert_exporter": "python",
   "pygments_lexer": "ipython2",
   "version": "2.7.6"
  }
 },
 "nbformat": 4,
 "nbformat_minor": 0
}
