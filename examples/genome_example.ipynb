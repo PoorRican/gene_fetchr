{
 "cells": [
  {
   "cell_type": "markdown",
   "source": [
    "# `GenomeScraper` example\n",
    "\n",
    "This notebook is describes the use of how the `GenomeScraper` functor.\n",
    "\n",
    "`GenomeScraper` only accepts `SeqRecord` objects from the `biopython` library. The functions in `genome` are meant to get `SeqRecord` objects from queries, however in this example, we will be using preloaded genomes, specifically the genome for _E. coli (strain K-12)_, accession `U00096.3`, stored in `tests/sequences`."
   ],
   "metadata": {
    "collapsed": false
   }
  },
  {
   "cell_type": "code",
   "execution_count": 4,
   "outputs": [],
   "source": [
    "FILE = '../tests/sequences/U00096.gb'"
   ],
   "metadata": {
    "collapsed": false
   }
  },
  {
   "cell_type": "code",
   "execution_count": 10,
   "outputs": [],
   "source": [
    "from Bio import SeqIO\n",
    "from GenomeScraper import GenomeScraper\n",
    "import pprint\n",
    "pp = pprint.pprint"
   ],
   "metadata": {
    "collapsed": false
   }
  },
  {
   "cell_type": "markdown",
   "source": [
    "## Instantiating `SeqRecord`"
   ],
   "metadata": {
    "collapsed": false
   }
  },
  {
   "cell_type": "code",
   "execution_count": 9,
   "outputs": [],
   "source": [
    "with open(FILE, 'r') as file:\n",
    "    genome = SeqIO.read(file, 'gb')"
   ],
   "metadata": {
    "collapsed": false
   }
  },
  {
   "cell_type": "markdown",
   "source": [
    "`GenomeScraper` is agnostic to filetype or method used to retrieve data, as long as there is more than one value in `features`. If a `SeqRecord` does not have more than one record, a `ValueError` will be raised."
   ],
   "metadata": {
    "collapsed": false
   }
  },
  {
   "cell_type": "markdown",
   "source": [
    "## Scraping Genes from Genome\n",
    "\n",
    "Once `SeqRecord` is instantiated, it is passed to `GeneScraper`, which parses and extracts data on all genes."
   ],
   "metadata": {
    "collapsed": false
   }
  },
  {
   "cell_type": "code",
   "execution_count": 12,
   "outputs": [],
   "source": [
    "genes = GenomeScraper(genome)"
   ],
   "metadata": {
    "collapsed": false
   }
  },
  {
   "cell_type": "markdown",
   "source": [
    "## Analyzing Gene\n",
    "\n",
    "Once all genes have been parsed from `genome`, they are accessible by name.\n",
    "\n",
    "Finding the _mak_ gene is as follows:"
   ],
   "metadata": {
    "collapsed": false
   }
  },
  {
   "cell_type": "code",
   "execution_count": 16,
   "outputs": [
    {
     "name": "stdout",
     "output_type": "stream",
     "text": [
      "{'codon_start': '1',\n",
      " 'db_xref': ['UniProtKB/Swiss-Prot:P23917',\n",
      "             'ASAP:ABE-0001372',\n",
      "             'ECOCYC:EG11288'],\n",
      " 'end': 411052,\n",
      " 'gene': 'mak',\n",
      " 'gene_synonym': ['ECK0389', 'yajF'],\n",
      " 'locus_tag': 'b0394',\n",
      " 'product': 'fructokinase',\n",
      " 'protein_id': 'AAC73497.2',\n",
      " 'start': 410143,\n",
      " 'strand': 1,\n",
      " 'transl_table': '11',\n",
      " 'translation': 'MRIGIDLGGTKTEVIALGDAGEQLYRHRLPTPRDDYRQTIETIATLVDMAEQATGQRGTVGMGIPGSISPYTGVVKNANSTWLNGQPFDKDLSARLQREVRLANDANCLAVSEAVDGAAAGAQTVFAVIIGTGCGAGVAFNGRAHIGGNGTAGEWGHNPLPWMDEDELRYREEVPCYCGKQGCIETFISGTGFAMDYRRLSGHALKGSEIIRLVEESDPVAELALRRYELRLAKSLAHVVNILDPDVIVLGGGMSNVDRLYQTVGQLIKQFVFGGECETPVRKAKHGDSSGVRGAAWLWPQE',\n",
      " 'type': 'CDS'}\n"
     ]
    }
   ],
   "source": [
    "mak = genes['mak']\n",
    "pp(mak.data)"
   ],
   "metadata": {
    "collapsed": false
   }
  },
  {
   "cell_type": "markdown",
   "source": [
    "Gene data is accessible via a dict-like interface. For example, to find the UniProt id to pass to `OntologyScraper`:"
   ],
   "metadata": {
    "collapsed": false
   }
  },
  {
   "cell_type": "code",
   "execution_count": 17,
   "outputs": [
    {
     "data": {
      "text/plain": "['UniProtKB/Swiss-Prot:P23917', 'ASAP:ABE-0001372', 'ECOCYC:EG11288']"
     },
     "execution_count": 17,
     "metadata": {},
     "output_type": "execute_result"
    }
   ],
   "source": [
    "mak['db_xref']"
   ],
   "metadata": {
    "collapsed": false
   }
  }
 ],
 "metadata": {
  "kernelspec": {
   "display_name": "Python 3",
   "language": "python",
   "name": "python3"
  },
  "language_info": {
   "codemirror_mode": {
    "name": "ipython",
    "version": 2
   },
   "file_extension": ".py",
   "mimetype": "text/x-python",
   "name": "python",
   "nbconvert_exporter": "python",
   "pygments_lexer": "ipython2",
   "version": "2.7.6"
  }
 },
 "nbformat": 4,
 "nbformat_minor": 0
}
