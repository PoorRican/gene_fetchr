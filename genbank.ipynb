{
 "cells": [
  {
   "cell_type": "code",
   "execution_count": 2,
   "metadata": {},
   "outputs": [],
   "source": [
    "from Bio import SeqIO"
   ]
  },
  {
   "cell_type": "code",
   "execution_count": 34,
   "metadata": {},
   "outputs": [],
   "source": [
    "genome = 'sequences/sequence.full.w.gi.ape'\n",
    "seq = SeqIO.read(genome, 'gb')"
   ]
  },
  {
   "cell_type": "markdown",
   "source": [
    "Sequence can also be downloaded by the following:\n",
    "Accession numbers are the preferred method of fetching."
   ],
   "metadata": {
    "collapsed": false
   }
  },
  {
   "cell_type": "code",
   "execution_count": 3,
   "outputs": [],
   "source": [
    "from Bio import Entrez"
   ],
   "metadata": {
    "collapsed": false
   }
  },
  {
   "cell_type": "code",
   "execution_count": 2,
   "outputs": [
    {
     "name": "stderr",
     "output_type": "stream",
     "text": [
      "/usr/local/lib/python3.9/site-packages/Bio/Entrez/__init__.py:658: UserWarning: \n",
      "Email address is not specified.\n",
      "\n",
      "To make use of NCBI's E-utilities, NCBI requires you to specify your\n",
      "email address with each request.  As an example, if your email address\n",
      "is A.N.Other@example.com, you can specify it as follows:\n",
      "   from Bio import Entrez\n",
      "   Entrez.email = 'A.N.Other@example.com'\n",
      "In case of excessive usage of the E-utilities, NCBI will attempt to contact\n",
      "a user at the email address provided before blocking access to the\n",
      "E-utilities.\n",
      "  warnings.warn(\n"
     ]
    }
   ],
   "source": [
    "accession = 'NC_000913.3'\n",
    "results = Entrez.efetch(db='nucleotide', id=accession, rettype='gbwithparts')\n",
    "record = results.read()"
   ],
   "metadata": {
    "collapsed": false
   }
  },
  {
   "cell_type": "markdown",
   "source": [
    "## Getting our gene from genome\n",
    "We are looking to interact with the `mak` gene\n",
    "Manually looking at `ape` file shows that it occurs under index `1647`"
   ],
   "metadata": {
    "collapsed": false
   }
  },
  {
   "cell_type": "code",
   "execution_count": 27,
   "outputs": [
    {
     "data": {
      "text/plain": "odict_keys(['gene', 'locus_tag', 'gene_synonym', 'EC_number', 'codon_start', 'transl_table', 'product', 'protein_id', 'db_xref', 'translation'])"
     },
     "execution_count": 27,
     "metadata": {},
     "output_type": "execute_result"
    }
   ],
   "source": [
    "seq.features[1647].qualifiers.keys()"
   ],
   "metadata": {
    "collapsed": false
   }
  },
  {
   "cell_type": "markdown",
   "source": [
    "Gene titles seem to be located at `seq.features[i].qualifiers.gene[x]`\n",
    "Therefore we need a function to iterate through `seq` and filter through gene names"
   ],
   "metadata": {
    "collapsed": false
   }
  },
  {
   "cell_type": "code",
   "execution_count": 52,
   "metadata": {},
   "outputs": [],
   "source": [
    "# Iterate through `seq.features`\n",
    "def search(seq, term):\n",
    "    for feature in seq.features:\n",
    "        if 'gene' in feature.qualifiers.keys() and term in feature.qualifiers['gene']:\n",
    "            return feature"
   ]
  },
  {
   "cell_type": "code",
   "execution_count": 51,
   "outputs": [],
   "source": [
    "mak = search(seq, 'mak')"
   ],
   "metadata": {
    "collapsed": false
   }
  },
  {
   "cell_type": "markdown",
   "source": [
    "## Getting metadata on gene\n",
    "\n",
    "Using db value 'ECOCYC:EG11288', Entrez can be used to search"
   ],
   "metadata": {
    "collapsed": false
   }
  },
  {
   "cell_type": "code",
   "execution_count": 8,
   "outputs": [],
   "source": [
    "results = Entrez.esearch(db='gene', term='EG11288')\n",
    "record = Entrez.read(results)\n",
    "id = record['IdList'][0]"
   ],
   "metadata": {
    "collapsed": false
   }
  },
  {
   "cell_type": "code",
   "execution_count": 59,
   "outputs": [
    {
     "data": {
      "text/plain": "'949086'"
     },
     "execution_count": 59,
     "metadata": {},
     "output_type": "execute_result"
    }
   ],
   "source": [
    "id"
   ],
   "metadata": {
    "collapsed": false
   }
  },
  {
   "cell_type": "code",
   "execution_count": 132,
   "outputs": [
    {
     "data": {
      "text/plain": "'\\n1. mak\\nfructokinase [Escherichia coli str. K-12 substr. MG1655]\\nOther Aliases: b0394, ECK0389, yajF\\nOther Designations: fructokinase\\nAnnotation:  NC_000913.3 (410144..411052)\\nID: 949086\\n\\n'"
     },
     "execution_count": 132,
     "metadata": {},
     "output_type": "execute_result"
    }
   ],
   "source": [
    "results = Entrez.efetch(db='gene', id='949086', rettype='gbwithparts', retmode='text')\n",
    "record = results.read()\n",
    "record"
   ],
   "metadata": {
    "collapsed": false
   }
  },
  {
   "cell_type": "markdown",
   "source": [
    "`id` is required argument otherwise `HTTP 400`"
   ],
   "metadata": {
    "collapsed": false
   }
  },
  {
   "cell_type": "code",
   "execution_count": 87,
   "outputs": [],
   "source": [
    "results = Entrez.efetch(db='gene', id='949086', rettype=\"gb\", retmode='text')"
   ],
   "metadata": {
    "collapsed": false
   }
  },
  {
   "cell_type": "code",
   "execution_count": 88,
   "outputs": [],
   "source": [
    "text = results.read()"
   ],
   "metadata": {
    "collapsed": false
   }
  },
  {
   "cell_type": "code",
   "execution_count": 89,
   "outputs": [
    {
     "data": {
      "text/plain": "'\\n1. mak\\nfructokinase [Escherichia coli str. K-12 substr. MG1655]\\nOther Aliases: b0394, ECK0389, yajF\\nOther Designations: fructokinase\\nAnnotation:  NC_000913.3 (410144..411052)\\nID: 949086\\n\\n'"
     },
     "execution_count": 89,
     "metadata": {},
     "output_type": "execute_result"
    }
   ],
   "source": [
    "text"
   ],
   "metadata": {
    "collapsed": false
   }
  },
  {
   "cell_type": "code",
   "execution_count": 90,
   "outputs": [
    {
     "name": "stdout",
     "output_type": "stream",
     "text": [
      "\n",
      "1. mak\n",
      "fructokinase [Escherichia coli str. K-12 substr. MG1655]\n",
      "Other Aliases: b0394, ECK0389, yajF\n",
      "Other Designations: fructokinase\n",
      "Annotation:  NC_000913.3 (410144..411052)\n",
      "ID: 949086\n",
      "\n",
      "\n"
     ]
    }
   ],
   "source": [
    "print(text)"
   ],
   "metadata": {
    "collapsed": false
   }
  },
  {
   "cell_type": "markdown",
   "source": [
    "Only basic info is returned through gene database. Let's see what the nucleotide database returns."
   ],
   "metadata": {
    "collapsed": false
   }
  },
  {
   "cell_type": "markdown",
   "source": [
    "## Getting protein data\n",
    "How to get protein data from gene?\n",
    "`ECK0389` seemed to return a value.\n",
    "### Problem\n",
    "Therefore, we need a method that takes list of gene names/id's and searches for proteins."
   ],
   "metadata": {
    "collapsed": false
   }
  },
  {
   "cell_type": "code",
   "execution_count": 8,
   "outputs": [],
   "source": [
    "results = Entrez.esearch(db='protein', term='ECK0389')\n",
    "record = Entrez.read(results)"
   ],
   "metadata": {
    "collapsed": false
   }
  },
  {
   "cell_type": "code",
   "execution_count": 145,
   "outputs": [
    {
     "name": "stdout",
     "output_type": "stream",
     "text": [
      "{'Count': '9', 'RetMax': '9', 'RetStart': '0', 'IdList': ['90111128', '87081733', '1894859918', '1775789164', '359331155', '85674535', '315135077', '802133986', '682117968'], 'TranslationSet': [], 'TranslationStack': [{'Term': 'ECK0389[All Fields]', 'Field': 'All Fields', 'Count': '9', 'Explode': 'N'}, 'GROUP'], 'QueryTranslation': 'ECK0389[All Fields]'}\n"
     ]
    }
   ],
   "source": [
    "print(record)"
   ],
   "metadata": {
    "collapsed": false
   }
  },
  {
   "cell_type": "markdown",
   "source": [
    "We then need a function that takes a list of id's and gets files"
   ],
   "metadata": {
    "collapsed": false
   }
  },
  {
   "cell_type": "code",
   "execution_count": 19,
   "outputs": [],
   "source": [
    "def multifetch(db, ids, rettype):\n",
    "    returned = []\n",
    "    for id in ids:\n",
    "        with Entrez.efetch(db=db, id=id, rettype=rettype) as handle:\n",
    "            returned.append(SeqIO.read(handle, 'gb'))\n",
    "    return returned"
   ],
   "metadata": {
    "collapsed": false
   }
  },
  {
   "cell_type": "code",
   "execution_count": 147,
   "outputs": [
    {
     "data": {
      "text/plain": "['90111128', '87081733', '1894859918', '1775789164', '359331155', '85674535', '315135077', '802133986', '682117968']"
     },
     "execution_count": 147,
     "metadata": {},
     "output_type": "execute_result"
    }
   ],
   "source": [
    "record['IdList']"
   ],
   "metadata": {
    "collapsed": false
   }
  },
  {
   "cell_type": "code",
   "execution_count": 20,
   "outputs": [],
   "source": [
    "proteins = multifetch('protein', record['IdList'], 'gp')"
   ],
   "metadata": {
    "collapsed": false
   }
  },
  {
   "cell_type": "markdown",
   "source": [
    "Since multiple proteins were returned from `esearch`, each `id` must be verified.\n",
    "\n",
    "No detailed information is passed except for special sites which can be annotated by [GO](http://geneontology.org/docs/introduction-to-go-resource/)\n",
    "I don't know if this can be integrated with COBRApy, et al."
   ],
   "metadata": {
    "collapsed": false
   }
  },
  {
   "cell_type": "markdown",
   "source": [
    "# Get list of organism genomes (function)"
   ],
   "metadata": {
    "collapsed": false
   }
  },
  {
   "cell_type": "code",
   "execution_count": 55,
   "outputs": [],
   "source": [
    "def org_genome_list(org):\n",
    "    return Entrez.esearch(db='genome', term='%s[organism]' % (org))"
   ],
   "metadata": {
    "collapsed": false
   }
  },
  {
   "cell_type": "code",
   "execution_count": 56,
   "outputs": [],
   "source": [
    "raw = org_genome_list('e coli')"
   ],
   "metadata": {
    "collapsed": false
   }
  },
  {
   "cell_type": "code",
   "execution_count": 58,
   "outputs": [],
   "source": [
    "list = Entrez.read(raw)"
   ],
   "metadata": {
    "collapsed": false
   }
  },
  {
   "cell_type": "code",
   "execution_count": 59,
   "outputs": [
    {
     "data": {
      "text/plain": "{'Count': '1', 'RetMax': '1', 'RetStart': '0', 'IdList': ['167'], 'TranslationSet': [{'From': 'e coli[organism]', 'To': '\"Escherichia coli\"[Organism]'}], 'TranslationStack': [{'Term': '\"Escherichia coli\"[Organism]', 'Field': 'Organism', 'Count': '1', 'Explode': 'Y'}, 'GROUP'], 'QueryTranslation': '\"Escherichia coli\"[Organism]'}"
     },
     "execution_count": 59,
     "metadata": {},
     "output_type": "execute_result"
    }
   ],
   "source": [
    "list"
   ],
   "metadata": {
    "collapsed": false
   }
  },
  {
   "cell_type": "markdown",
   "source": [
    "Search came up w/ only one `id`: 167"
   ],
   "metadata": {
    "collapsed": false
   }
  },
  {
   "cell_type": "code",
   "execution_count": 64,
   "outputs": [
    {
     "data": {
      "text/plain": "{'Count': '314', 'RetMax': '20', 'RetStart': '0', 'IdList': ['117023', '116345', '116331', '115705', '115223', '115200', '115197', '115190', '115185', '115163', '115162', '114126', '112851', '111561', '108858', '108301', '108300', '108299', '107518', '107514'], 'TranslationSet': [], 'TranslationStack': [{'Term': '167[All Fields]', 'Field': 'All Fields', 'Count': '314', 'Explode': 'N'}, 'GROUP'], 'QueryTranslation': '167[All Fields]', 'ErrorList': {'PhraseNotFound': [], 'FieldNotFound': ['id']}}"
     },
     "execution_count": 64,
     "metadata": {},
     "output_type": "execute_result"
    }
   ],
   "source": [
    "with Entrez.esearch(db='genome', term='167[id]') as handle:\n",
    "    thing = Entrez.read(handle)\n",
    "thing"
   ],
   "metadata": {
    "collapsed": false
   }
  },
  {
   "cell_type": "code",
   "execution_count": 67,
   "outputs": [
    {
     "name": "stdout",
     "output_type": "stream",
     "text": [
      "{'Count': '19557228', 'RetMax': '20', 'RetStart': '0', 'IdList': ['2305351642', '2305351641', '2305351640', '2305351639', '2305351638', '2305351637', '2305351636', '2305351635', '2305351634', '2305351633', '2305351632', '2305344037', '2305338941', '2305338940', '2305338938', '2305338937', '2305338936', '2305338935', '2305338934', '2305338931'], 'TranslationSet': [{'From': 'e coli', 'To': '\"Escherichia coli\"[Organism] OR e coli[All Fields]'}], 'TranslationStack': [{'Term': '\"Escherichia coli\"[Organism]', 'Field': 'Organism', 'Count': '11096220', 'Explode': 'Y'}, {'Term': 'e coli[All Fields]', 'Field': 'All Fields', 'Count': '9829475', 'Explode': 'N'}, 'OR', 'GROUP'], 'QueryTranslation': '\"Escherichia coli\"[Organism] OR e coli[All Fields]'}\n"
     ]
    }
   ],
   "source": [
    "with Entrez.esearch(db='nuccore', term='e coli', retmode='text') as handle:\n",
    "    thing = Entrez.read(handle)\n",
    "    print(thing)"
   ],
   "metadata": {
    "collapsed": false
   }
  },
  {
   "cell_type": "markdown",
   "source": [
    "It looks like a linking `id` is given to link to main organism page.\n",
    "In that case, it looks like organism taxonomies should be hardcoded. The idea is to group genomes of all organisms by taxonomy."
   ],
   "metadata": {
    "collapsed": false
   }
  },
  {
   "cell_type": "markdown",
   "source": [
    "Looks like [FTP is available](https://ftp.ncbi.nlm.nih.gov/genomes/genbank/) and should contain representative genomes.\n",
    "But how do we get representative genomes by search term?\n",
    "This must be put on hold until main features are setup."
   ],
   "metadata": {
    "collapsed": false
   }
  },
  {
   "cell_type": "code",
   "execution_count": 7,
   "outputs": [],
   "source": [
    "from xml.etree import ElementTree"
   ],
   "metadata": {
    "collapsed": false
   }
  },
  {
   "cell_type": "code",
   "execution_count": 5,
   "outputs": [],
   "source": [
    "def get_genome_list(organism):\n",
    "    # TODO: have more expansive query\n",
    "    query = '\"%s\"[Organism] AND (Refseq[Filter] AND \"bioproject nuccore\"[Filter] AND \"scope monoisolate\"[Filter])'\\\n",
    "            % organism\n",
    "    with Entrez.esearch(db='bioproject', term=query, retmode='text') as handle:\n",
    "        records = Entrez.read(handle)\n",
    "\n",
    "    accessions = []\n",
    "    for id in records['IdList']:\n",
    "        with Entrez.efetch(db='bioproject', id=id) as handle:\n",
    "            root = ElementTree.parse(handle).getroot()\n",
    "            accession = root[0][0][0][0].attrib['accession']\n",
    "            accessions.append(accession)\n",
    "\n",
    "    ids = []\n",
    "    for accession in accessions:\n",
    "        with Entrez.esearch(db='nuccore', term=accession) as handle:\n",
    "            ids.extend(Entrez.read(handle)['IdList'])\n",
    "\n",
    "    genomes = []\n",
    "    for id in ids:\n",
    "        with Entrez.efetch(db='nuccore', id=id, rettype='gbwithparts', retmode='text') as handle:\n",
    "            genomes.append(SeqIO.read(handle, 'gb'))\n",
    "    # exclude any sequence that has \"plasmid\" in title\n",
    "    return [i for i in genomes if 'plasmid' not in i.description]\n"
   ],
   "metadata": {
    "collapsed": false
   }
  },
  {
   "cell_type": "code",
   "execution_count": 8,
   "outputs": [],
   "source": [
    "genomes = get_genome_list('e coli')"
   ],
   "metadata": {
    "collapsed": false
   }
  },
  {
   "cell_type": "markdown",
   "source": [
    "## Getting all genes from genome"
   ],
   "metadata": {
    "collapsed": false
   }
  },
  {
   "cell_type": "code",
   "execution_count": 17,
   "outputs": [
    {
     "data": {
      "text/plain": "9261"
     },
     "execution_count": 17,
     "metadata": {},
     "output_type": "execute_result"
    }
   ],
   "source": [
    "len(genomes[0].features)"
   ],
   "metadata": {
    "collapsed": false
   }
  },
  {
   "cell_type": "code",
   "execution_count": 16,
   "outputs": [
    {
     "name": "stdout",
     "output_type": "stream",
     "text": [
      "type: gene\n",
      "location: [189:255](+)\n",
      "qualifiers:\n",
      "    Key: db_xref, Value: ['ASAP:ABE-0000006', 'ECOCYC:EG11277', 'GeneID:944742']\n",
      "    Key: gene, Value: ['thrL']\n",
      "    Key: gene_synonym, Value: ['ECK0001']\n",
      "    Key: locus_tag, Value: ['b0001']\n",
      "\n"
     ]
    }
   ],
   "source": [
    "print(genomes[0].features[1])"
   ],
   "metadata": {
    "collapsed": false
   }
  },
  {
   "cell_type": "code",
   "execution_count": 24,
   "outputs": [
    {
     "data": {
      "text/plain": "'944742'"
     },
     "execution_count": 24,
     "metadata": {},
     "output_type": "execute_result"
    }
   ],
   "source": [
    "gene_id = [i[i.index(':')+1:] for i in genomes[0].features[1].qualifiers['db_xref'] if 'GeneID' in i][0]\n",
    "gene_id"
   ],
   "metadata": {
    "collapsed": false
   }
  },
  {
   "cell_type": "markdown",
   "source": [
    "Using `GeneID` should be sufficient to look up any feature"
   ],
   "metadata": {
    "collapsed": false
   }
  },
  {
   "cell_type": "code",
   "execution_count": 63,
   "outputs": [],
   "source": [
    "with Entrez.efetch(db='gene', id='944742', retmode='xml') as handle:\n",
    "    gene = handle.read()"
   ],
   "metadata": {
    "collapsed": false
   }
  },
  {
   "cell_type": "markdown",
   "source": [
    "It seems that ASN.1 encodes much more information than `*.gb`"
   ],
   "metadata": {
    "collapsed": false
   }
  },
  {
   "cell_type": "code",
   "execution_count": 64,
   "outputs": [
    {
     "name": "stdout",
     "output_type": "stream",
     "text": [
      "b'<?xml version=\"1.0\" ?>\\n<!DOCTYPE Entrezgene-Set PUBLIC \"-//NLM//DTD NCBI-Entrezgene, 21st January 2005//EN\" \"https://www.ncbi.nlm.nih.gov/data_specs/dtd/NCBI_Entrezgene.dtd\">\\n<Entrezgene-Set>\\n<Entrezgene>\\n  <Entrezgene_track-info>\\n    <Gene-track>\\n      <Gene-track_geneid>944742</Gene-track_geneid>\\n      <Gene-track_create-date>\\n        <Date>\\n          <Date_std>\\n            <Date-std>\\n              <Date-std_year>2003</Date-std_year>\\n              <Date-std_month>8</Date-std_month>\\n              <Date-std_day>1</Date-std_day>\\n              <Date-std_hour>20</Date-std_hour>\\n              <Date-std_minute>35</Date-std_minute>\\n              <Date-std_second>0</Date-std_second>\\n            </Date-std>\\n          </Date_std>\\n        </Date>\\n      </Gene-track_create-date>\\n      <Gene-track_update-date>\\n        <Date>\\n          <Date_std>\\n            <Date-std>\\n              <Date-std_year>2022</Date-std_year>\\n              <Date-std_month>6</Date-std_month>\\n              <Date-std_day>23</Date-std_day>\\n              <Date-std_hour>16</Date-std_hour>\\n              <Date-std_minute>41</Date-std_minute>\\n              <Date-std_second>31</Date-std_second>\\n            </Date-std>\\n          </Date_std>\\n        </Date>\\n      </Gene-track_update-date>\\n    </Gene-track>\\n  </Entrezgene_track-info>\\n  <Entrezgene_type value=\"protein-coding\">6</Entrezgene_type>\\n  <Entrezgene_source>\\n    <BioSource>\\n      <BioSource_genome value=\"chromosome\">21</BioSource_genome>\\n      <BioSource_org>\\n        <Org-ref>\\n          <Org-ref_taxname>Escherichia coli str. K-12 substr. MG1655</Org-ref_taxname>\\n          <Org-ref_db>\\n            <Dbtag>\\n              <Dbtag_db>taxon</Dbtag_db>\\n              <Dbtag_tag>\\n                <Object-id>\\n                  <Object-id_id>511145</Object-id_id>\\n                </Object-id>\\n              </Dbtag_tag>\\n            </Dbtag>\\n          </Org-ref_db>\\n          <Org-ref_orgname>\\n            <OrgName>\\n              <OrgName_name>\\n                <OrgName_name_binomial>\\n                  <BinomialOrgName>\\n                    <BinomialOrgName_genus>Escherichia</BinomialOrgName_genus>\\n                    <BinomialOrgName_species>coli</BinomialOrgName_species>\\n                  </BinomialOrgName>\\n                </OrgName_name_binomial>\\n              </OrgName_name>\\n              <OrgName_attrib>specified</OrgName_attrib>\\n              <OrgName_mod>\\n                <OrgMod>\\n                  <OrgMod_subtype value=\"strain\">2</OrgMod_subtype>\\n                  <OrgMod_subname>K-12</OrgMod_subname>\\n                </OrgMod>\\n                <OrgMod>\\n                  <OrgMod_subtype value=\"substrain\">3</OrgMod_subtype>\\n                  <OrgMod_subname>MG1655</OrgMod_subname>\\n                </OrgMod>\\n              </OrgName_mod>\\n              <OrgName_lineage>Bacteria; Proteobacteria; Gammaproteobacteria; Enterobacterales; Enterobacteriaceae; Escherichia</OrgName_lineage>\\n              <OrgName_gcode>11</OrgName_gcode>\\n              <OrgName_div>BCT</OrgName_div>\\n            </OrgName>\\n          </Org-ref_orgname>\\n        </Org-ref>\\n      </BioSource_org>\\n    </BioSource>\\n  </Entrezgene_source>\\n  <Entrezgene_gene>\\n    <Gene-ref>\\n      <Gene-ref_locus>thrL</Gene-ref_locus>\\n      <Gene-ref_db>\\n        <Dbtag>\\n          <Dbtag_db>ASAP</Dbtag_db>\\n          <Dbtag_tag>\\n            <Object-id>\\n              <Object-id_str>ABE-0000006</Object-id_str>\\n            </Object-id>\\n          </Dbtag_tag>\\n        </Dbtag>\\n        <Dbtag>\\n          <Dbtag_db>ECOCYC</Dbtag_db>\\n          <Dbtag_tag>\\n            <Object-id>\\n              <Object-id_str>EG11277</Object-id_str>\\n            </Object-id>\\n          </Dbtag_tag>\\n        </Dbtag>\\n      </Gene-ref_db>\\n      <Gene-ref_syn>\\n        <Gene-ref_syn_E>ECK0001</Gene-ref_syn_E>\\n      </Gene-ref_syn>\\n      <Gene-ref_locus-tag>b0001</Gene-ref_locus-tag>\\n    </Gene-ref>\\n  </Entrezgene_gene>\\n  <Entrezgene_prot>\\n    <Prot-ref>\\n      <Prot-ref_desc>thr operon leader peptide</Prot-ref_desc>\\n    </Prot-ref>\\n  </Entrezgene_prot>\\n  <Entrezgene_summary>The ThrL leader peptide controls by attenuation the expression of the  thrLABC operon, which encodes four out of the five enzymes of threonine biosynthesis pathway, in response to the threonine and isoleucine levels . [More information is available at EcoCyc: EG11277].</Entrezgene_summary>\\n  <Entrezgene_gene-source>\\n    <Gene-source>\\n      <Gene-source_src>Entrez Genomes</Gene-source_src>\\n      <Gene-source_src-int>556503834</Gene-source_src-int>\\n      <Gene-source_src-str1>NC_000913</Gene-source_src-str1>\\n      <Gene-source_src-str2>b0001</Gene-source_src-str2>\\n    </Gene-source>\\n  </Entrezgene_gene-source>\\n  <Entrezgene_locus>\\n    <Gene-commentary>\\n      <Gene-commentary_type value=\"genomic\">1</Gene-commentary_type>\\n      <Gene-commentary_accession>NC_000913</Gene-commentary_accession>\\n      <Gene-commentary_version>3</Gene-commentary_version>\\n      <Gene-commentary_seqs>\\n        <Seq-loc>\\n          <Seq-loc_int>\\n            <Seq-interval>\\n              <Seq-interval_from>189</Seq-interval_from>\\n              <Seq-interval_to>254</Seq-interval_to>\\n              <Seq-interval_strand>\\n                <Na-strand value=\"plus\"/>\\n              </Seq-interval_strand>\\n              <Seq-interval_id>\\n                <Seq-id>\\n                  <Seq-id_gi>556503834</Seq-id_gi>\\n                </Seq-id>\\n              </Seq-interval_id>\\n            </Seq-interval>\\n          </Seq-loc_int>\\n        </Seq-loc>\\n      </Gene-commentary_seqs>\\n      <Gene-commentary_products>\\n        <Gene-commentary>\\n          <Gene-commentary_type value=\"peptide\">8</Gene-commentary_type>\\n          <Gene-commentary_label>thr operon leader peptide</Gene-commentary_label>\\n          <Gene-commentary_accession>NP_414542</Gene-commentary_accession>\\n          <Gene-commentary_version>1</Gene-commentary_version>\\n          <Gene-commentary_refs>\\n            <Pub>\\n              <Pub_pmid>\\n                <PubMedId>9278503</PubMedId>\\n              </Pub_pmid>\\n            </Pub>\\n            <Pub>\\n              <Pub_pmid>\\n                <PubMedId>16397293</PubMedId>\\n              </Pub_pmid>\\n            </Pub>\\n            <Pub>\\n              <Pub_pmid>\\n                <PubMedId>16738553</PubMedId>\\n              </Pub_pmid>\\n            </Pub>\\n          </Gene-commentary_refs>\\n          <Gene-commentary_source>\\n            <Other-source>\\n              <Other-source_src>\\n                <Dbtag>\\n                  <Dbtag_db>UniProtKB/Swiss-Prot</Dbtag_db>\\n                  <Dbtag_tag>\\n                    <Object-id>\\n                      <Object-id_str>P0AD86</Object-id_str>\\n                    </Object-id>\\n                  </Dbtag_tag>\\n                </Dbtag>\\n              </Other-source_src>\\n            </Other-source>\\n          </Gene-commentary_source>\\n          <Gene-commentary_genomic-coords>\\n            <Seq-loc>\\n              <Seq-loc_int>\\n                <Seq-interval>\\n                  <Seq-interval_from>189</Seq-interval_from>\\n                  <Seq-interval_to>254</Seq-interval_to>\\n                  <Seq-interval_strand>\\n                    <Na-strand value=\"plus\"/>\\n                  </Seq-interval_strand>\\n                  <Seq-interval_id>\\n                    <Seq-id>\\n                      <Seq-id_gi>556503834</Seq-id_gi>\\n                    </Seq-id>\\n                  </Seq-interval_id>\\n                </Seq-interval>\\n              </Seq-loc_int>\\n            </Seq-loc>\\n          </Gene-commentary_genomic-coords>\\n          <Gene-commentary_seqs>\\n            <Seq-loc>\\n              <Seq-loc_whole>\\n                <Seq-id>\\n                  <Seq-id_gi>16127995</Seq-id_gi>\\n                </Seq-id>\\n              </Seq-loc_whole>\\n            </Seq-loc>\\n          </Gene-commentary_seqs>\\n        </Gene-commentary>\\n      </Gene-commentary_products>\\n    </Gene-commentary>\\n  </Entrezgene_locus>\\n  <Entrezgene_properties>\\n    <Gene-commentary>\\n      <Gene-commentary_type value=\"comment\">254</Gene-commentary_type>\\n      <Gene-commentary_heading>GeneOntology</Gene-commentary_heading>\\n      <Gene-commentary_source>\\n        <Other-source>\\n          <Other-source_pre-text>Provided by</Other-source_pre-text>\\n          <Other-source_anchor>GO</Other-source_anchor>\\n          <Other-source_url>http://www.geneontology.org/</Other-source_url>\\n        </Other-source>\\n      </Gene-commentary_source>\\n      <Gene-commentary_comment>\\n        <Gene-commentary>\\n          <Gene-commentary_type value=\"comment\">254</Gene-commentary_type>\\n          <Gene-commentary_label>Process</Gene-commentary_label>\\n          <Gene-commentary_comment>\\n            <Gene-commentary>\\n              <Gene-commentary_type value=\"comment\">254</Gene-commentary_type>\\n              <Gene-commentary_source>\\n                <Other-source>\\n                  <Other-source_src>\\n                    <Dbtag>\\n                      <Dbtag_db>GO</Dbtag_db>\\n                      <Dbtag_tag>\\n                        <Object-id>\\n                          <Object-id_id>8652</Object-id_id>\\n                        </Object-id>\\n                      </Dbtag_tag>\\n                    </Dbtag>\\n                  </Other-source_src>\\n                  <Other-source_pre-text>involved_in</Other-source_pre-text>\\n                  <Other-source_anchor>cellular amino acid biosynthetic process</Other-source_anchor>\\n                  <Other-source_post-text>evidence: IEA</Other-source_post-text>\\n                </Other-source>\\n              </Gene-commentary_source>\\n            </Gene-commentary>\\n            <Gene-commentary>\\n              <Gene-commentary_type value=\"comment\">254</Gene-commentary_type>\\n              <Gene-commentary_source>\\n                <Other-source>\\n                  <Other-source_src>\\n                    <Dbtag>\\n                      <Dbtag_db>GO</Dbtag_db>\\n                      <Dbtag_tag>\\n                        <Object-id>\\n                          <Object-id_id>31554</Object-id_id>\\n                        </Object-id>\\n                      </Dbtag_tag>\\n                    </Dbtag>\\n                  </Other-source_src>\\n                  <Other-source_pre-text>involved_in</Other-source_pre-text>\\n                  <Other-source_anchor>regulation of termination of DNA-templated transcription</Other-source_anchor>\\n                  <Other-source_post-text>evidence: IEA</Other-source_post-text>\\n                </Other-source>\\n              </Gene-commentary_source>\\n            </Gene-commentary>\\n            <Gene-commentary>\\n              <Gene-commentary_type value=\"comment\">254</Gene-commentary_type>\\n              <Gene-commentary_source>\\n                <Other-source>\\n                  <Other-source_src>\\n                    <Dbtag>\\n                      <Dbtag_db>GO</Dbtag_db>\\n                      <Dbtag_tag>\\n                        <Object-id>\\n                          <Object-id_id>9088</Object-id_id>\\n                        </Object-id>\\n                      </Dbtag_tag>\\n                    </Dbtag>\\n                  </Other-source_src>\\n                  <Other-source_pre-text>involved_in</Other-source_pre-text>\\n                  <Other-source_anchor>threonine biosynthetic process</Other-source_anchor>\\n                  <Other-source_post-text>evidence: IEA</Other-source_post-text>\\n                </Other-source>\\n              </Gene-commentary_source>\\n            </Gene-commentary>\\n            <Gene-commentary>\\n              <Gene-commentary_type value=\"comment\">254</Gene-commentary_type>\\n              <Gene-commentary_refs>\\n                <Pub>\\n                  <Pub_pmid>\\n                    <PubMedId>6811557</PubMedId>\\n                  </Pub_pmid>\\n                </Pub>\\n              </Gene-commentary_refs>\\n              <Gene-commentary_source>\\n                <Other-source>\\n                  <Other-source_src>\\n                    <Dbtag>\\n                      <Dbtag_db>GO</Dbtag_db>\\n                      <Dbtag_tag>\\n                        <Object-id>\\n                          <Object-id_id>31555</Object-id_id>\\n                        </Object-id>\\n                      </Dbtag_tag>\\n                    </Dbtag>\\n                  </Other-source_src>\\n                  <Other-source_pre-text>acts_upstream_of_or_within</Other-source_pre-text>\\n                  <Other-source_anchor>transcriptional attenuation</Other-source_anchor>\\n                  <Other-source_post-text>evidence: IMP</Other-source_post-text>\\n                </Other-source>\\n              </Gene-commentary_source>\\n            </Gene-commentary>\\n            <Gene-commentary>\\n              <Gene-commentary_type value=\"comment\">254</Gene-commentary_type>\\n              <Gene-commentary_source>\\n                <Other-source>\\n                  <Other-source_src>\\n                    <Dbtag>\\n                      <Dbtag_db>GO</Dbtag_db>\\n                      <Dbtag_tag>\\n                        <Object-id>\\n                          <Object-id_id>31556</Object-id_id>\\n                        </Object-id>\\n                      </Dbtag_tag>\\n                    </Dbtag>\\n                  </Other-source_src>\\n                  <Other-source_pre-text>involved_in</Other-source_pre-text>\\n                  <Other-source_anchor>transcriptional attenuation by ribosome</Other-source_anchor>\\n                  <Other-source_post-text>evidence: IEA</Other-source_post-text>\\n                </Other-source>\\n              </Gene-commentary_source>\\n            </Gene-commentary>\\n          </Gene-commentary_comment>\\n        </Gene-commentary>\\n      </Gene-commentary_comment>\\n    </Gene-commentary>\\n  </Entrezgene_properties>\\n  <Entrezgene_comments>\\n    <Gene-commentary>\\n      <Gene-commentary_type value=\"comment\">254</Gene-commentary_type>\\n      <Gene-commentary_heading>NCBI Reference Sequences (RefSeq)</Gene-commentary_heading>\\n      <Gene-commentary_comment>\\n        <Gene-commentary>\\n          <Gene-commentary_type value=\"comment\">254</Gene-commentary_type>\\n          <Gene-commentary_heading>Genome Annotation</Gene-commentary_heading>\\n          <Gene-commentary_products>\\n            <Gene-commentary>\\n              <Gene-commentary_type value=\"genomic\">1</Gene-commentary_type>\\n              <Gene-commentary_heading>Reference assembly</Gene-commentary_heading>\\n              <Gene-commentary_accession>NC_000913</Gene-commentary_accession>\\n              <Gene-commentary_version>3</Gene-commentary_version>\\n              <Gene-commentary_source>\\n                <Other-source>\\n                  <Other-source_src>\\n                    <Dbtag>\\n                      <Dbtag_db>Nucleotide</Dbtag_db>\\n                      <Dbtag_tag>\\n                        <Object-id>\\n                          <Object-id_id>556503834</Object-id_id>\\n                        </Object-id>\\n                      </Dbtag_tag>\\n                    </Dbtag>\\n                  </Other-source_src>\\n                </Other-source>\\n              </Gene-commentary_source>\\n              <Gene-commentary_seqs>\\n                <Seq-loc>\\n                  <Seq-loc_int>\\n                    <Seq-interval>\\n                      <Seq-interval_from>189</Seq-interval_from>\\n                      <Seq-interval_to>254</Seq-interval_to>\\n                      <Seq-interval_strand>\\n                        <Na-strand value=\"plus\"/>\\n                      </Seq-interval_strand>\\n                      <Seq-interval_id>\\n                        <Seq-id>\\n                          <Seq-id_gi>556503834</Seq-id_gi>\\n                        </Seq-id>\\n                      </Seq-interval_id>\\n                    </Seq-interval>\\n                  </Seq-loc_int>\\n                </Seq-loc>\\n              </Gene-commentary_seqs>\\n              <Gene-commentary_products>\\n                <Gene-commentary>\\n                  <Gene-commentary_type value=\"peptide\">8</Gene-commentary_type>\\n                  <Gene-commentary_heading>Product</Gene-commentary_heading>\\n                  <Gene-commentary_accession>NP_414542</Gene-commentary_accession>\\n                  <Gene-commentary_version>1</Gene-commentary_version>\\n                  <Gene-commentary_source>\\n                    <Other-source>\\n                      <Other-source_src>\\n                        <Dbtag>\\n                          <Dbtag_db>Protein</Dbtag_db>\\n                          <Dbtag_tag>\\n                            <Object-id>\\n                              <Object-id_id>16127995</Object-id_id>\\n                            </Object-id>\\n                          </Dbtag_tag>\\n                        </Dbtag>\\n                      </Other-source_src>\\n                      <Other-source_anchor>NP_414542</Other-source_anchor>\\n                      <Other-source_post-text>thr operon leader peptide [Escherichia coli str. K-12 substr. MG1655]</Other-source_post-text>\\n                    </Other-source>\\n                  </Gene-commentary_source>\\n                  <Gene-commentary_seqs>\\n                    <Seq-loc>\\n                      <Seq-loc_whole>\\n                        <Seq-id>\\n                          <Seq-id_gi>16127995</Seq-id_gi>\\n                        </Seq-id>\\n                      </Seq-loc_whole>\\n                    </Seq-loc>\\n                  </Gene-commentary_seqs>\\n                  <Gene-commentary_comment>\\n                    <Gene-commentary>\\n                      <Gene-commentary_type value=\"comment\">254</Gene-commentary_type>\\n                      <Gene-commentary_label>RefSeq Status</Gene-commentary_label>\\n                      <Gene-commentary_text>PROVISIONAL</Gene-commentary_text>\\n                    </Gene-commentary>\\n                    <Gene-commentary>\\n                      <Gene-commentary_type value=\"other\">255</Gene-commentary_type>\\n                      <Gene-commentary_heading>UniProtKB</Gene-commentary_heading>\\n                      <Gene-commentary_source></Gene-commentary_source>\\n                      <Gene-commentary_comment>\\n                        <Gene-commentary>\\n                          <Gene-commentary_type value=\"other\">255</Gene-commentary_type>\\n                          <Gene-commentary_source>\\n                            <Other-source>\\n                              <Other-source_src>\\n                                <Dbtag>\\n                                  <Dbtag_db>UniProtKB/Swiss-Prot</Dbtag_db>\\n                                  <Dbtag_tag>\\n                                    <Object-id>\\n                                      <Object-id_str>P0AD86</Object-id_str>\\n                                    </Object-id>\\n                                  </Dbtag_tag>\\n                                </Dbtag>\\n                              </Other-source_src>\\n                              <Other-source_anchor>P0AD86</Other-source_anchor>\\n                            </Other-source>\\n                          </Gene-commentary_source>\\n                        </Gene-commentary>\\n                      </Gene-commentary_comment>\\n                    </Gene-commentary>\\n                  </Gene-commentary_comment>\\n                </Gene-commentary>\\n              </Gene-commentary_products>\\n            </Gene-commentary>\\n          </Gene-commentary_products>\\n        </Gene-commentary>\\n      </Gene-commentary_comment>\\n    </Gene-commentary>\\n    <Gene-commentary>\\n      <Gene-commentary_type value=\"comment\">254</Gene-commentary_type>\\n      <Gene-commentary_heading>Related Sequences</Gene-commentary_heading>\\n      <Gene-commentary_products>\\n        <Gene-commentary>\\n          <Gene-commentary_type value=\"genomic\">1</Gene-commentary_type>\\n          <Gene-commentary_heading>Genomic</Gene-commentary_heading>\\n          <Gene-commentary_accession>U00096</Gene-commentary_accession>\\n          <Gene-commentary_version>3</Gene-commentary_version>\\n          <Gene-commentary_source>\\n            <Other-source>\\n              <Other-source_src>\\n                <Dbtag>\\n                  <Dbtag_db>Nucleotide</Dbtag_db>\\n                  <Dbtag_tag>\\n                    <Object-id>\\n                      <Object-id_id>545778205</Object-id_id>\\n                    </Object-id>\\n                  </Dbtag_tag>\\n                </Dbtag>\\n              </Other-source_src>\\n              <Other-source_anchor>U00096</Other-source_anchor>\\n            </Other-source>\\n          </Gene-commentary_source>\\n          <Gene-commentary_seqs>\\n            <Seq-loc>\\n              <Seq-loc_whole>\\n                <Seq-id>\\n                  <Seq-id_gi>545778205</Seq-id_gi>\\n                </Seq-id>\\n              </Seq-loc_whole>\\n            </Seq-loc>\\n          </Gene-commentary_seqs>\\n          <Gene-commentary_products>\\n            <Gene-commentary>\\n              <Gene-commentary_type value=\"peptide\">8</Gene-commentary_type>\\n              <Gene-commentary_accession>AAC73112</Gene-commentary_accession>\\n              <Gene-commentary_version>1</Gene-commentary_version>\\n              <Gene-commentary_source>\\n                <Other-source>\\n                  <Other-source_src>\\n                    <Dbtag>\\n                      <Dbtag_db>Protein</Dbtag_db>\\n                      <Dbtag_tag>\\n                        <Object-id>\\n                          <Object-id_id>1786182</Object-id_id>\\n                        </Object-id>\\n                      </Dbtag_tag>\\n                    </Dbtag>\\n                  </Other-source_src>\\n                  <Other-source_anchor>AAC73112</Other-source_anchor>\\n                </Other-source>\\n              </Gene-commentary_source>\\n              <Gene-commentary_seqs>\\n                <Seq-loc>\\n                  <Seq-loc_whole>\\n                    <Seq-id>\\n                      <Seq-id_gi>1786182</Seq-id_gi>\\n                    </Seq-id>\\n                  </Seq-loc_whole>\\n                </Seq-loc>\\n              </Gene-commentary_seqs>\\n            </Gene-commentary>\\n          </Gene-commentary_products>\\n        </Gene-commentary>\\n      </Gene-commentary_products>\\n    </Gene-commentary>\\n    <Gene-commentary>\\n      <Gene-commentary_type value=\"comment\">254</Gene-commentary_type>\\n      <Gene-commentary_heading>RefSeq Status</Gene-commentary_heading>\\n      <Gene-commentary_label>PROVISIONAL</Gene-commentary_label>\\n    </Gene-commentary>\\n    <Gene-commentary>\\n      <Gene-commentary_type value=\"comment\">254</Gene-commentary_type>\\n      <Gene-commentary_refs>\\n        <Pub>\\n          <Pub_pmid>\\n            <PubMedId>287010</PubMedId>\\n          </Pub_pmid>\\n        </Pub>\\n        <Pub>\\n          <Pub_pmid>\\n            <PubMedId>1709279</PubMedId>\\n          </Pub_pmid>\\n        </Pub>\\n        <Pub>\\n          <Pub_pmid>\\n            <PubMedId>2410621</PubMedId>\\n          </Pub_pmid>\\n        </Pub>\\n        <Pub>\\n          <Pub_pmid>\\n            <PubMedId>3112412</PubMedId>\\n          </Pub_pmid>\\n        </Pub>\\n        <Pub>\\n          <Pub_pmid>\\n            <PubMedId>4364333</PubMedId>\\n          </Pub_pmid>\\n        </Pub>\\n        <Pub>\\n          <Pub_pmid>\\n            <PubMedId>6277952</PubMedId>\\n          </Pub_pmid>\\n        </Pub>\\n        <Pub>\\n          <Pub_pmid>\\n            <PubMedId>6298575</PubMedId>\\n          </Pub_pmid>\\n        </Pub>\\n        <Pub>\\n          <Pub_pmid>\\n            <PubMedId>6316258</PubMedId>\\n          </Pub_pmid>\\n        </Pub>\\n        <Pub>\\n          <Pub_pmid>\\n            <PubMedId>6811557</PubMedId>\\n          </Pub_pmid>\\n        </Pub>\\n        <Pub>\\n          <Pub_pmid>\\n            <PubMedId>7610040</PubMedId>\\n          </Pub_pmid>\\n        </Pub>\\n        <Pub>\\n          <Pub_pmid>\\n            <PubMedId>9278503</PubMedId>\\n          </Pub_pmid>\\n        </Pub>\\n        <Pub>\\n          <Pub_pmid>\\n            <PubMedId>13959617</PubMedId>\\n          </Pub_pmid>\\n        </Pub>\\n        <Pub>\\n          <Pub_pmid>\\n            <PubMedId>19121005</PubMedId>\\n          </Pub_pmid>\\n        </Pub>\\n      </Gene-commentary_refs>\\n    </Gene-commentary>\\n  </Entrezgene_comments>\\n  <Entrezgene_unique-keys></Entrezgene_unique-keys>\\n  <Entrezgene_xtra-iq>\\n    <Xtra-Terms>\\n      <Xtra-Terms_tag>NUCLEOTIDE</Xtra-Terms_tag>\\n      <Xtra-Terms_value>545778205</Xtra-Terms_value>\\n    </Xtra-Terms>\\n    <Xtra-Terms>\\n      <Xtra-Terms_tag>PROTEIN</Xtra-Terms_tag>\\n      <Xtra-Terms_value>1786182</Xtra-Terms_value>\\n    </Xtra-Terms>\\n  </Entrezgene_xtra-iq>\\n  <Entrezgene_non-unique-keys>\\n    <Dbtag>\\n      <Dbtag_db>ID</Dbtag_db>\\n      <Dbtag_tag>\\n        <Object-id>\\n          <Object-id_id>556503834</Object-id_id>\\n        </Object-id>\\n      </Dbtag_tag>\\n    </Dbtag>\\n  </Entrezgene_non-unique-keys>\\n</Entrezgene>\\n</Entrezgene-Set>'\n"
     ]
    }
   ],
   "source": [
    "print(gene)"
   ],
   "metadata": {
    "collapsed": false
   }
  },
  {
   "cell_type": "code",
   "execution_count": null,
   "outputs": [],
   "source": [
    "with Entrez.efetch(db='gene', id='944742', retmode='xml') as handle:\n",
    "    parsed = ElementTree.parse(handle)\n",
    "root = parsed.getroot()"
   ],
   "metadata": {
    "collapsed": false
   }
  },
  {
   "cell_type": "code",
   "execution_count": 111,
   "outputs": [
    {
     "data": {
      "text/plain": "'The ThrL leader peptide controls by attenuation the expression of the  thrLABC operon, which encodes four out of the five enzymes of threonine biosynthesis pathway, in response to the threonine and isoleucine levels . [More information is available at EcoCyc: EG11277].'"
     },
     "execution_count": 111,
     "metadata": {},
     "output_type": "execute_result"
    }
   ],
   "source": [
    "root[0].find('Entrezgene_prot').find('Prot-ref').find('Prot-ref_desc').text      # title of producct\n",
    "root[0].find('Entrezgene_summary').text      # description of gene\n"
   ],
   "metadata": {
    "collapsed": false
   }
  },
  {
   "cell_type": "code",
   "execution_count": 114,
   "outputs": [],
   "source": [
    "def get_gene_metadata(id: str) -> dict['title': str, 'summary': str]:\n",
    "    \"\"\"\n",
    "    Get non-essential metadata not found in GenBank files by using defailt ASN.1 specification.\n",
    "\n",
    "    :param id: GeneID\n",
    "    :return: dict containing `summary` and `title`\n",
    "    \"\"\"\n",
    "    with Entrez.efetch(db='gene', id=id, retmode='xml') as handle:\n",
    "        parsed = ElementTree.parse(handle)\n",
    "    root = parsed.getroot()\n",
    "\n",
    "    try:\n",
    "        prot_desc = root[0].find('Entrezgene_prot').find('Prot-ref').find('Prot-ref_desc').text\n",
    "    except ValueError:\n",
    "        prot_desc = None\n",
    "\n",
    "    try:\n",
    "        summary = root[0].find('Entrezgene_summary').text\n",
    "    except ValueError:\n",
    "        summary = None\n",
    "\n",
    "    return {\n",
    "        'summary': summary,\n",
    "        'prot_desc': prot_desc,\n",
    "    }"
   ],
   "metadata": {
    "collapsed": false
   }
  },
  {
   "cell_type": "code",
   "execution_count": 115,
   "outputs": [
    {
     "data": {
      "text/plain": "{'summary': 'The ThrL leader peptide controls by attenuation the expression of the  thrLABC operon, which encodes four out of the five enzymes of threonine biosynthesis pathway, in response to the threonine and isoleucine levels . [More information is available at EcoCyc: EG11277].',\n 'prot_desc': 'thr operon leader peptide'}"
     },
     "execution_count": 115,
     "metadata": {},
     "output_type": "execute_result"
    }
   ],
   "source": [
    "get_gene_metadata('944742')"
   ],
   "metadata": {
    "collapsed": false
   }
  },
  {
   "cell_type": "markdown",
   "source": [
    "Any feature with `type=source` should be excluded, however not all information in this feature is useless."
   ],
   "metadata": {
    "collapsed": false
   }
  },
  {
   "cell_type": "code",
   "execution_count": 122,
   "outputs": [],
   "source": [
    "def fetch_gene(id: str) -> SeqIO:\n",
    "    with Entrez.efetch(db='gene', id=id, rettype='gbwithparts', retmode='text') as handle:\n",
    "        return SeqIO.read(handle, 'gb')"
   ],
   "metadata": {
    "collapsed": false
   }
  },
  {
   "cell_type": "code",
   "execution_count": 123,
   "outputs": [],
   "source": [
    "def get_all_genes(genome: SeqIO):\n",
    "    # raise error if there are no annotations\n",
    "    if len(genome.features) <= 1:\n",
    "        raise ValueError('Genome does not have any gene annotations')\n",
    "\n",
    "    # check if first feature is `source`\n",
    "    start = 0\n",
    "    if (genome.features[0].type == 'source'): start = 1\n",
    "\n",
    "    genes = []\n",
    "    # fetch all genes\n",
    "    for gene in genome.features:\n",
    "        gid = [i[i.index(':')+1:] for i in genomes[0].features[1].qualifiers['db_xref'] if 'GeneID' in i][0]\n",
    "        gene = fetch_gene(gid)\n",
    "        genes.append(gene)\n",
    "    return genes\n"
   ],
   "metadata": {
    "collapsed": false
   }
  },
  {
   "cell_type": "code",
   "execution_count": null,
   "outputs": [],
   "source": [],
   "metadata": {
    "collapsed": false
   }
  }
 ],
 "metadata": {
  "kernelspec": {
   "display_name": "Python 3",
   "language": "python",
   "name": "python3"
  },
  "language_info": {
   "codemirror_mode": {
    "name": "ipython",
    "version": 3
   },
   "file_extension": ".py",
   "mimetype": "text/x-python",
   "name": "python",
   "nbconvert_exporter": "python",
   "pygments_lexer": "ipython3",
   "version": "3.9.12"
  }
 },
 "nbformat": 4,
 "nbformat_minor": 4
}
