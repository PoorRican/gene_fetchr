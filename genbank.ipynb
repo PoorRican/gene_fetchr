{
 "cells": [
  {
   "cell_type": "code",
   "execution_count": 3,
   "metadata": {},
   "outputs": [],
   "source": [
    "from Bio import SeqIO"
   ]
  },
  {
   "cell_type": "code",
   "execution_count": 34,
   "metadata": {},
   "outputs": [],
   "source": [
    "genome = 'sequence.full.w.gi.ape'\n",
    "seq = SeqIO.read(genome, 'gb')"
   ]
  },
  {
   "cell_type": "markdown",
   "source": [
    "Sequence can also be downloaded by the following:\n",
    "Accession numbers are the preferred method of fetching."
   ],
   "metadata": {
    "collapsed": false
   }
  },
  {
   "cell_type": "code",
   "execution_count": null,
   "outputs": [],
   "source": [
    "from Bio import Entrez"
   ],
   "metadata": {
    "collapsed": false
   }
  },
  {
   "cell_type": "code",
   "execution_count": 2,
   "outputs": [
    {
     "name": "stderr",
     "output_type": "stream",
     "text": [
      "/usr/local/lib/python3.9/site-packages/Bio/Entrez/__init__.py:658: UserWarning: \n",
      "Email address is not specified.\n",
      "\n",
      "To make use of NCBI's E-utilities, NCBI requires you to specify your\n",
      "email address with each request.  As an example, if your email address\n",
      "is A.N.Other@example.com, you can specify it as follows:\n",
      "   from Bio import Entrez\n",
      "   Entrez.email = 'A.N.Other@example.com'\n",
      "In case of excessive usage of the E-utilities, NCBI will attempt to contact\n",
      "a user at the email address provided before blocking access to the\n",
      "E-utilities.\n",
      "  warnings.warn(\n"
     ]
    }
   ],
   "source": [
    "accession = 'NC_000913.3'\n",
    "results = Entrez.efetch(db='nucleotide', id=accession, rettype='gbwithparts')\n",
    "record = results.read()"
   ],
   "metadata": {
    "collapsed": false
   }
  },
  {
   "cell_type": "markdown",
   "source": [
    "## Getting our gene from genome\n",
    "We are looking to interact with the `mak` gene\n",
    "Manually looking at `ape` file shows that it occurs under index `1647`"
   ],
   "metadata": {
    "collapsed": false
   }
  },
  {
   "cell_type": "code",
   "execution_count": 27,
   "outputs": [
    {
     "data": {
      "text/plain": "odict_keys(['gene', 'locus_tag', 'gene_synonym', 'EC_number', 'codon_start', 'transl_table', 'product', 'protein_id', 'db_xref', 'translation'])"
     },
     "execution_count": 27,
     "metadata": {},
     "output_type": "execute_result"
    }
   ],
   "source": [
    "seq.features[1647].qualifiers.keys()"
   ],
   "metadata": {
    "collapsed": false
   }
  },
  {
   "cell_type": "markdown",
   "source": [
    "Gene titles seem to be located at `seq.features[i].qualifiers.gene[x]`\n",
    "Therefore we need a function to iterate through `seq` and filter through gene names"
   ],
   "metadata": {
    "collapsed": false
   }
  },
  {
   "cell_type": "code",
   "execution_count": 52,
   "metadata": {},
   "outputs": [],
   "source": [
    "# Iterate through `seq.features`\n",
    "def search(seq, term):\n",
    "    for feature in seq.features:\n",
    "        if 'gene' in feature.qualifiers.keys() and term in feature.qualifiers['gene']:\n",
    "            return feature"
   ]
  },
  {
   "cell_type": "code",
   "execution_count": 51,
   "outputs": [],
   "source": [
    "mak = search(seq, 'mak')"
   ],
   "metadata": {
    "collapsed": false
   }
  },
  {
   "cell_type": "markdown",
   "source": [
    "## Getting metadata on gene\n",
    "\n",
    "Using db value 'ECOCYC:EG11288', Entrez can be used to search"
   ],
   "metadata": {
    "collapsed": false
   }
  },
  {
   "cell_type": "code",
   "execution_count": 56,
   "outputs": [],
   "source": [
    "Entrez.email = 'poor.rican@pm.me'\n",
    "results = Entrez.esearch(db='gene', term='EG11288')\n",
    "record = Entrez.read(results)\n",
    "id = record['IdList'][0]"
   ],
   "metadata": {
    "collapsed": false
   }
  },
  {
   "cell_type": "code",
   "execution_count": 59,
   "outputs": [
    {
     "data": {
      "text/plain": "'949086'"
     },
     "execution_count": 59,
     "metadata": {},
     "output_type": "execute_result"
    }
   ],
   "source": [
    "id"
   ],
   "metadata": {
    "collapsed": false
   }
  },
  {
   "cell_type": "code",
   "execution_count": 132,
   "outputs": [
    {
     "data": {
      "text/plain": "'\\n1. mak\\nfructokinase [Escherichia coli str. K-12 substr. MG1655]\\nOther Aliases: b0394, ECK0389, yajF\\nOther Designations: fructokinase\\nAnnotation:  NC_000913.3 (410144..411052)\\nID: 949086\\n\\n'"
     },
     "execution_count": 132,
     "metadata": {},
     "output_type": "execute_result"
    }
   ],
   "source": [
    "results = Entrez.efetch(db='gene', id='949086', rettype='gbwithparts', retmode='text')\n",
    "record = results.read()\n",
    "record"
   ],
   "metadata": {
    "collapsed": false
   }
  },
  {
   "cell_type": "markdown",
   "source": [
    "`id` is required argument otherwise `HTTP 400`"
   ],
   "metadata": {
    "collapsed": false
   }
  },
  {
   "cell_type": "code",
   "execution_count": 87,
   "outputs": [],
   "source": [
    "results = Entrez.efetch(db='gene', id='949086', rettype=\"gb\", retmode='text')"
   ],
   "metadata": {
    "collapsed": false
   }
  },
  {
   "cell_type": "code",
   "execution_count": 88,
   "outputs": [],
   "source": [
    "text = results.read()"
   ],
   "metadata": {
    "collapsed": false
   }
  },
  {
   "cell_type": "code",
   "execution_count": 89,
   "outputs": [
    {
     "data": {
      "text/plain": "'\\n1. mak\\nfructokinase [Escherichia coli str. K-12 substr. MG1655]\\nOther Aliases: b0394, ECK0389, yajF\\nOther Designations: fructokinase\\nAnnotation:  NC_000913.3 (410144..411052)\\nID: 949086\\n\\n'"
     },
     "execution_count": 89,
     "metadata": {},
     "output_type": "execute_result"
    }
   ],
   "source": [
    "text"
   ],
   "metadata": {
    "collapsed": false
   }
  },
  {
   "cell_type": "code",
   "execution_count": 90,
   "outputs": [
    {
     "name": "stdout",
     "output_type": "stream",
     "text": [
      "\n",
      "1. mak\n",
      "fructokinase [Escherichia coli str. K-12 substr. MG1655]\n",
      "Other Aliases: b0394, ECK0389, yajF\n",
      "Other Designations: fructokinase\n",
      "Annotation:  NC_000913.3 (410144..411052)\n",
      "ID: 949086\n",
      "\n",
      "\n"
     ]
    }
   ],
   "source": [
    "print(text)"
   ],
   "metadata": {
    "collapsed": false
   }
  },
  {
   "cell_type": "markdown",
   "source": [
    "Only basic info is returned through gene database. Let's see what the nucleotide database returns."
   ],
   "metadata": {
    "collapsed": false
   }
  },
  {
   "cell_type": "markdown",
   "source": [
    "## Getting protein data\n",
    "How to get protein data from gene?\n",
    "`ECK0389` seemed to return a value.\n",
    "### Problem\n",
    "Therefore, we need a method that takes list of gene names/id's and searches for proteins."
   ],
   "metadata": {
    "collapsed": false
   }
  },
  {
   "cell_type": "code",
   "execution_count": 8,
   "outputs": [],
   "source": [
    "results = Entrez.esearch(db='protein', term='ECK0389')\n",
    "record = Entrez.read(results)"
   ],
   "metadata": {
    "collapsed": false
   }
  },
  {
   "cell_type": "code",
   "execution_count": 145,
   "outputs": [
    {
     "name": "stdout",
     "output_type": "stream",
     "text": [
      "{'Count': '9', 'RetMax': '9', 'RetStart': '0', 'IdList': ['90111128', '87081733', '1894859918', '1775789164', '359331155', '85674535', '315135077', '802133986', '682117968'], 'TranslationSet': [], 'TranslationStack': [{'Term': 'ECK0389[All Fields]', 'Field': 'All Fields', 'Count': '9', 'Explode': 'N'}, 'GROUP'], 'QueryTranslation': 'ECK0389[All Fields]'}\n"
     ]
    }
   ],
   "source": [
    "print(record)"
   ],
   "metadata": {
    "collapsed": false
   }
  },
  {
   "cell_type": "markdown",
   "source": [
    "We then need a function that takes a list of id's and gets files"
   ],
   "metadata": {
    "collapsed": false
   }
  },
  {
   "cell_type": "code",
   "execution_count": 19,
   "outputs": [],
   "source": [
    "def multifetch(db, ids, rettype):\n",
    "    returned = []\n",
    "    for id in ids:\n",
    "        with Entrez.efetch(db=db, id=id, rettype=rettype) as handle:\n",
    "            returned.append(SeqIO.read(handle, 'gb'))\n",
    "    return returned"
   ],
   "metadata": {
    "collapsed": false
   }
  },
  {
   "cell_type": "code",
   "execution_count": 147,
   "outputs": [
    {
     "data": {
      "text/plain": "['90111128', '87081733', '1894859918', '1775789164', '359331155', '85674535', '315135077', '802133986', '682117968']"
     },
     "execution_count": 147,
     "metadata": {},
     "output_type": "execute_result"
    }
   ],
   "source": [
    "record['IdList']"
   ],
   "metadata": {
    "collapsed": false
   }
  },
  {
   "cell_type": "code",
   "execution_count": 20,
   "outputs": [],
   "source": [
    "proteins = multifetch('protein', record['IdList'], 'gp')"
   ],
   "metadata": {
    "collapsed": false
   }
  },
  {
   "cell_type": "markdown",
   "source": [
    "Since multiple proteins were returned from `esearch`, each `id` must be verified.\n",
    "\n",
    "No detailed information is passed except for special sites which can be annotated by [GO](http://geneontology.org/docs/introduction-to-go-resource/)\n",
    "I don't know if this can be integrated with COBRApy, et al."
   ],
   "metadata": {
    "collapsed": false
   }
  },
  {
   "cell_type": "markdown",
   "source": [
    "# Get list of organism genomes (function)"
   ],
   "metadata": {
    "collapsed": false
   }
  },
  {
   "cell_type": "code",
   "execution_count": 55,
   "outputs": [],
   "source": [
    "def org_genome_list(org):\n",
    "    return Entrez.esearch(db='genome', term='%s[organism]' % (org))"
   ],
   "metadata": {
    "collapsed": false
   }
  },
  {
   "cell_type": "code",
   "execution_count": 56,
   "outputs": [],
   "source": [
    "raw = org_genome_list('e coli')"
   ],
   "metadata": {
    "collapsed": false
   }
  },
  {
   "cell_type": "code",
   "execution_count": 58,
   "outputs": [],
   "source": [
    "list = Entrez.read(raw)"
   ],
   "metadata": {
    "collapsed": false
   }
  },
  {
   "cell_type": "code",
   "execution_count": 59,
   "outputs": [
    {
     "data": {
      "text/plain": "{'Count': '1', 'RetMax': '1', 'RetStart': '0', 'IdList': ['167'], 'TranslationSet': [{'From': 'e coli[organism]', 'To': '\"Escherichia coli\"[Organism]'}], 'TranslationStack': [{'Term': '\"Escherichia coli\"[Organism]', 'Field': 'Organism', 'Count': '1', 'Explode': 'Y'}, 'GROUP'], 'QueryTranslation': '\"Escherichia coli\"[Organism]'}"
     },
     "execution_count": 59,
     "metadata": {},
     "output_type": "execute_result"
    }
   ],
   "source": [
    "list"
   ],
   "metadata": {
    "collapsed": false
   }
  },
  {
   "cell_type": "markdown",
   "source": [
    "Search came up w/ only one `id`: 167"
   ],
   "metadata": {
    "collapsed": false
   }
  },
  {
   "cell_type": "code",
   "execution_count": 64,
   "outputs": [
    {
     "data": {
      "text/plain": "{'Count': '314', 'RetMax': '20', 'RetStart': '0', 'IdList': ['117023', '116345', '116331', '115705', '115223', '115200', '115197', '115190', '115185', '115163', '115162', '114126', '112851', '111561', '108858', '108301', '108300', '108299', '107518', '107514'], 'TranslationSet': [], 'TranslationStack': [{'Term': '167[All Fields]', 'Field': 'All Fields', 'Count': '314', 'Explode': 'N'}, 'GROUP'], 'QueryTranslation': '167[All Fields]', 'ErrorList': {'PhraseNotFound': [], 'FieldNotFound': ['id']}}"
     },
     "execution_count": 64,
     "metadata": {},
     "output_type": "execute_result"
    }
   ],
   "source": [
    "with Entrez.esearch(db='genome', term='167[id]') as handle:\n",
    "    thing = Entrez.read(handle)\n",
    "thing"
   ],
   "metadata": {
    "collapsed": false
   }
  },
  {
   "cell_type": "code",
   "execution_count": 67,
   "outputs": [
    {
     "name": "stdout",
     "output_type": "stream",
     "text": [
      "{'Count': '19557228', 'RetMax': '20', 'RetStart': '0', 'IdList': ['2305351642', '2305351641', '2305351640', '2305351639', '2305351638', '2305351637', '2305351636', '2305351635', '2305351634', '2305351633', '2305351632', '2305344037', '2305338941', '2305338940', '2305338938', '2305338937', '2305338936', '2305338935', '2305338934', '2305338931'], 'TranslationSet': [{'From': 'e coli', 'To': '\"Escherichia coli\"[Organism] OR e coli[All Fields]'}], 'TranslationStack': [{'Term': '\"Escherichia coli\"[Organism]', 'Field': 'Organism', 'Count': '11096220', 'Explode': 'Y'}, {'Term': 'e coli[All Fields]', 'Field': 'All Fields', 'Count': '9829475', 'Explode': 'N'}, 'OR', 'GROUP'], 'QueryTranslation': '\"Escherichia coli\"[Organism] OR e coli[All Fields]'}\n"
     ]
    }
   ],
   "source": [
    "with Entrez.esearch(db='nuccore', term='e coli', retmode='text') as handle:\n",
    "    thing = Entrez.read(handle)\n",
    "    print(thing)"
   ],
   "metadata": {
    "collapsed": false
   }
  },
  {
   "cell_type": "markdown",
   "source": [
    "It looks like a linking `id` is given to link to main organism page.\n",
    "In that case, it looks like organism taxonomies should be hardcoded. The idea is to group genomes of all organisms by taxonomy."
   ],
   "metadata": {
    "collapsed": false
   }
  },
  {
   "cell_type": "markdown",
   "source": [
    "Looks like [FTP is available](https://ftp.ncbi.nlm.nih.gov/genomes/genbank/) and should contain representative genomes.\n",
    "But how do we get representative genomes by search term?\n",
    "This must be put on hold until main features are setup."
   ],
   "metadata": {
    "collapsed": false
   }
  },
  {
   "cell_type": "code",
   "execution_count": 93,
   "outputs": [],
   "source": [
    "from xml.etree import ElementTree"
   ],
   "metadata": {
    "collapsed": false
   }
  },
  {
   "cell_type": "code",
   "execution_count": 160,
   "outputs": [],
   "source": [
    "def get_genome_list(organism):\n",
    "    # TODO: have more expansive query\n",
    "    query = '\"%s\"[Organism] AND (Refseq[Filter] AND \"bioproject nuccore\"[Filter] AND \"scope monoisolate\"[Filter])'\\\n",
    "            % organism\n",
    "    with Entrez.esearch(db='bioproject', term=query, retmode='text') as handle:\n",
    "        records = Entrez.read(handle)\n",
    "\n",
    "    accessions = []\n",
    "    for id in records['IdList']:\n",
    "        with Entrez.efetch(db='bioproject', id=id) as handle:\n",
    "            root = ElementTree.parse(handle).getroot()\n",
    "            accession = root[0][0][0][0].attrib['accession']\n",
    "            accessions.append(accession)\n",
    "\n",
    "    ids = []\n",
    "    for accession in accessions:\n",
    "        with Entrez.esearch(db='nuccore', term=accession) as handle:\n",
    "            ids.extend(Entrez.read(handle)['IdList'])\n",
    "\n",
    "    genomes = []\n",
    "    for id in ids:\n",
    "        print(\"Trying %s\" % id)\n",
    "        with Entrez.efetch(db='nuccore', id=id, rettype='gb', retmode='text') as handle:\n",
    "            genomes.append(SeqIO.read(handle, 'gb'))\n",
    "    # exclude any sequence that has \"plasmid\" in title\n",
    "    return [i for i in genomes if 'plasmid' not in i.description]\n"
   ],
   "metadata": {
    "collapsed": false
   }
  },
  {
   "cell_type": "code",
   "execution_count": 161,
   "outputs": [
    {
     "name": "stdout",
     "output_type": "stream",
     "text": [
      "Trying 10955266\n",
      "Trying 10955262\n",
      "Trying 556503834\n"
     ]
    }
   ],
   "source": [
    "genomes = get_genome_list('e coli')"
   ],
   "metadata": {
    "collapsed": false
   }
  },
  {
   "cell_type": "code",
   "execution_count": null,
   "outputs": [],
   "source": [],
   "metadata": {
    "collapsed": false
   }
  }
 ],
 "metadata": {
  "kernelspec": {
   "display_name": "Python 3",
   "language": "python",
   "name": "python3"
  },
  "language_info": {
   "codemirror_mode": {
    "name": "ipython",
    "version": 3
   },
   "file_extension": ".py",
   "mimetype": "text/x-python",
   "name": "python",
   "nbconvert_exporter": "python",
   "pygments_lexer": "ipython3",
   "version": "3.9.12"
  }
 },
 "nbformat": 4,
 "nbformat_minor": 4
}
